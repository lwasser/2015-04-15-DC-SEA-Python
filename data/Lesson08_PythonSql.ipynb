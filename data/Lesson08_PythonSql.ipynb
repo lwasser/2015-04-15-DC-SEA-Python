{
 "metadata": {
  "name": "",
  "signature": "sha256:83c99faf151bcadb34f20cc4941567e21041a326f2b059299f950b86fdf396cb"
 },
 "nbformat": 3,
 "nbformat_minor": 0,
 "worksheets": [
  {
   "cells": [
    {
     "cell_type": "code",
     "collapsed": false,
     "input": [
      "import sqlite3\n",
      "import os"
     ],
     "language": "python",
     "metadata": {},
     "outputs": [],
     "prompt_number": 4
    },
    {
     "cell_type": "code",
     "collapsed": false,
     "input": [
      "os.getcwd()"
     ],
     "language": "python",
     "metadata": {},
     "outputs": [
      {
       "metadata": {},
       "output_type": "pyout",
       "prompt_number": 5,
       "text": [
        "'C:\\\\Users\\\\lwasser\\\\Documents\\\\GitHub\\\\DC-SEA-Python-OldWorkingRepo\\\\data'"
       ]
      }
     ],
     "prompt_number": 5
    },
    {
     "cell_type": "code",
     "collapsed": false,
     "input": [
      "con = sqlite3.connect(\"portal_mammals.sqlite\")\n"
     ],
     "language": "python",
     "metadata": {},
     "outputs": [],
     "prompt_number": 6
    },
    {
     "cell_type": "code",
     "collapsed": false,
     "input": [
      "cur = con.cursor()"
     ],
     "language": "python",
     "metadata": {},
     "outputs": [],
     "prompt_number": 9
    },
    {
     "cell_type": "code",
     "collapsed": false,
     "input": [
      "for row in cur.execute('SELECT * FROM species;'):\n",
      "    print row"
     ],
     "language": "python",
     "metadata": {},
     "outputs": [
      {
       "output_type": "stream",
       "stream": "stdout",
       "text": [
        "(u'AB', u'Amphispiza', u'bilineata', u'Bird')\n",
        "(u'AH', u'Ammospermophilus', u'harrisi', u'Rodent-not censused')\n",
        "(u'AS', u'Ammodramus', u'savannarum', u'Bird')\n",
        "(u'BA', u'Baiomys', u'taylori', u'Rodent')\n",
        "(u'CB', u'Campylorhynchus', u'brunneicapillus', u'Bird')\n",
        "(u'CM', u'Calamospiza', u'melanocorys', u'Bird')\n",
        "(u'CQ', u'Callipepla', u'squamata', u'Bird')\n",
        "(u'CS', u'Crotalus', u'scutalatus', u'Reptile')\n",
        "(u'CT', u'Cnemidophorus', u'tigris', u'Reptile')\n",
        "(u'CU', u'Cnemidophorus', u'uniparens', u'Reptile')\n",
        "(u'CV', u'Crotalus', u'viridis', u'Reptile')\n",
        "(u'DM', u'Dipodomys', u'merriami', u'Rodent')\n",
        "(u'DO', u'Dipodomys', u'ordii', u'Rodent')\n",
        "(u'DS', u'Dipodomys', u'spectabilis', u'Rodent')\n",
        "(u'DX', u'Dipodomys', u'sp.', u'Rodent')\n",
        "(u'EO', u'Eumeces', u'obsoletus', u'Reptile')\n",
        "(u'GS', u'Gambelia', u'silus', u'Reptile')\n",
        "(u'NA', u'Neotoma', u'albigula', u'Rodent')\n",
        "(u'NX', u'Neotoma', u'sp.', u'Rodent')\n",
        "(u'OL', u'Onychomys', u'leucogaster', u'Rodent')\n",
        "(u'OT', u'Onychomys', u'torridus', u'Rodent')\n",
        "(u'OX', u'Onychomys', u'sp.', u'Rodent')\n",
        "(u'PB', u'Chaetodipus', u'baileyi', u'Rodent')\n",
        "(u'PC', u'Pipilo', u'chlorurus', u'Bird')\n",
        "(u'PE', u'Peromyscus', u'eremicus', u'Rodent')\n",
        "(u'PF', u'Perognathus', u'flavus', u'Rodent')\n",
        "(u'PG', u'Pooecetes', u'gramineus', u'Bird')\n",
        "(u'PH', u'Perognathus', u'hispidus', u'Rodent')\n",
        "(u'PI', u'Chaetodipus', u'intermedius', u'Rodent')\n",
        "(u'PL', u'Peromyscus', u'leucopus', u'Rodent')\n",
        "(u'PM', u'Peromyscus', u'maniculatus', u'Rodent')\n",
        "(u'PP', u'Chaetodipus', u'penicillatus', u'Rodent')\n",
        "(u'PU', u'Pipilo', u'fuscus', u'Bird')\n",
        "(u'PX', u'Chaetodipus', u'sp.', u'Rodent')\n",
        "(u'RF', u'Reithrodontomys', u'fulvescens', u'Rodent')\n",
        "(u'RM', u'Reithrodontomys', u'megalotis', u'Rodent')\n",
        "(u'RO', u'Reithrodontomys', u'montanus', u'Rodent')\n",
        "(u'RX', u'Reithrodontomys', u'sp.', u'Rodent')\n",
        "(u'SA', u'Sylvilagus', u'audubonii', u'Rabbit')\n",
        "(u'SB', u'Spizella', u'breweri', u'Bird')\n",
        "(u'SC', u'Sceloporus', u'clarki', u'Reptile')\n",
        "(u'SF', u'Sigmodon', u'fulviventer', u'Rodent')\n",
        "(u'SH', u'Sigmodon', u'hispidus', u'Rodent')\n",
        "(u'SO', u'Sigmodon', u'ochrognathus', u'Rodent')\n",
        "(u'SS', u'Spermophilus', u'spilosoma', u'Rodent-not censused')\n",
        "(u'ST', u'Spermophilus', u'tereticaudus', u'Rodent-not censused')\n",
        "(u'SU', u'Sceloporus', u'undulatus', u'Reptile')\n",
        "(u'SX', u'Sigmodon', u'sp.', u'Rodent')\n",
        "(u'UL', u'Lizard', u'sp.', u'Reptile')\n",
        "(u'UP', u'Pipilo', u'sp.', u'Bird')\n",
        "(u'UR', u'Rodent', u'sp.', u'Rodent')\n",
        "(u'US', u'Sparrow', u'sp.', u'Bird')\n",
        "(u'XX', None, None, u'Zero Trapping Success')\n",
        "(u'ZL', u'Zonotrichia', u'leucophrys', u'Bird')\n",
        "(u'ZM', u'Zenaida', u'macroura', u'Bird')\n"
       ]
      }
     ],
     "prompt_number": 11
    },
    {
     "cell_type": "code",
     "collapsed": false,
     "input": [
      "con.close"
     ],
     "language": "python",
     "metadata": {},
     "outputs": [
      {
       "metadata": {},
       "output_type": "pyout",
       "prompt_number": 12,
       "text": [
        "<function close>"
       ]
      }
     ],
     "prompt_number": 12
    },
    {
     "cell_type": "code",
     "collapsed": false,
     "input": [
      "import pandas as pd\n"
     ],
     "language": "python",
     "metadata": {},
     "outputs": [],
     "prompt_number": 13
    },
    {
     "cell_type": "code",
     "collapsed": false,
     "input": [
      "con = sqlite3.connect(\"portal_mammals.sqlite\")\n",
      "df= pd.read_sql_query(\"SELECT * from surveys WHERE month=7\", con)"
     ],
     "language": "python",
     "metadata": {},
     "outputs": [],
     "prompt_number": 20
    },
    {
     "cell_type": "code",
     "collapsed": false,
     "input": [
      "print df.head(10)"
     ],
     "language": "python",
     "metadata": {},
     "outputs": [
      {
       "output_type": "stream",
       "stream": "stdout",
       "text": [
        "   record_id  month  day  year  plot species sex  wgt\n",
        "0          1      7   16  1977     2      NA   M  NaN\n",
        "1          2      7   16  1977     3      NA   M  NaN\n",
        "2          3      7   16  1977     2      DM   F  NaN\n",
        "3          4      7   16  1977     7      DM   M  NaN\n",
        "4          5      7   16  1977     3      DM   M  NaN\n",
        "5          6      7   16  1977     1      PF   M  NaN\n",
        "6          7      7   16  1977     2      PE   F  NaN\n",
        "7          8      7   16  1977     1      DM   M  NaN\n",
        "8          9      7   16  1977     1      DM   F  NaN\n",
        "9         10      7   16  1977     6      PF   F  NaN\n"
       ]
      }
     ],
     "prompt_number": 21
    },
    {
     "cell_type": "code",
     "collapsed": false,
     "input": [],
     "language": "python",
     "metadata": {},
     "outputs": []
    }
   ],
   "metadata": {}
  }
 ]
}