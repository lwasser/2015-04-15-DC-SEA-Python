{
 "metadata": {
  "name": "",
  "signature": "sha256:54b69b9bed3e64d9d2504fc4ff00ce84f51de5284b2be574dae742e562a04309"
 },
 "nbformat": 3,
 "nbformat_minor": 0,
 "worksheets": []
}