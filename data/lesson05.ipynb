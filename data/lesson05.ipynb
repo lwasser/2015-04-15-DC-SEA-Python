{
 "metadata": {
  "name": "",
  "signature": "sha256:659680b99aa0b231c3d975cbd09eb4b50f29045f8592e372826a1d546fa1f75c"
 },
 "nbformat": 3,
 "nbformat_minor": 0,
 "worksheets": [
  {
   "cells": [
    {
     "cell_type": "code",
     "collapsed": false,
     "input": [
      "word = 'species'\n",
      "\n",
      "for letter in word:\n",
      "    print letter"
     ],
     "language": "python",
     "metadata": {},
     "outputs": [
      {
       "output_type": "stream",
       "stream": "stdout",
       "text": [
        "s\n",
        "p\n",
        "e\n",
        "c\n",
        "i\n",
        "e\n",
        "s\n"
       ]
      }
     ],
     "prompt_number": 7
    },
    {
     "cell_type": "code",
     "collapsed": false,
     "input": [
      "letter"
     ],
     "language": "python",
     "metadata": {},
     "outputs": [
      {
       "metadata": {},
       "output_type": "pyout",
       "prompt_number": 3,
       "text": [
        "'s'"
       ]
      }
     ],
     "prompt_number": 3
    },
    {
     "cell_type": "code",
     "collapsed": false,
     "input": [
      "for letter in word:\n",
      "    print letter +'-'"
     ],
     "language": "python",
     "metadata": {},
     "outputs": [
      {
       "output_type": "stream",
       "stream": "stdout",
       "text": [
        "s-\n",
        "p-\n",
        "e-\n",
        "c-\n",
        "i-\n",
        "e-\n",
        "s-\n"
       ]
      }
     ],
     "prompt_number": 8
    },
    {
     "cell_type": "code",
     "collapsed": false,
     "input": [
      "import os\n",
      "\n",
      "os.mkdir('data/lawyearly_files')"
     ],
     "language": "python",
     "metadata": {},
     "outputs": [],
     "prompt_number": 9
    },
    {
     "cell_type": "code",
     "collapsed": false,
     "input": [
      "os.getcwd()"
     ],
     "language": "python",
     "metadata": {},
     "outputs": [
      {
       "metadata": {},
       "output_type": "pyout",
       "prompt_number": 16,
       "text": [
        "'/Users/law/Documents/GitHub_Lwasser/2015-04-15-DC-SEA-Python'"
       ]
      }
     ],
     "prompt_number": 16
    },
    {
     "cell_type": "code",
     "collapsed": false,
     "input": [
      "os.listdir('data')"
     ],
     "language": "python",
     "metadata": {},
     "outputs": [
      {
       "metadata": {},
       "output_type": "pyout",
       "prompt_number": 10,
       "text": [
        "['biology', 'lawyearly_files', 'README.md', 'text_mining', 'tidy-data']"
       ]
      }
     ],
     "prompt_number": 10
    },
    {
     "cell_type": "code",
     "collapsed": false,
     "input": [
      "import pandas as pd\n",
      "\n",
      "# Load the data into a DataFrame\n",
      "surveys_df = pd.read_csv('data/biology/surveys.csv')"
     ],
     "language": "python",
     "metadata": {},
     "outputs": [],
     "prompt_number": 18
    },
    {
     "cell_type": "code",
     "collapsed": false,
     "input": [
      "# Select only data for 2002\n",
      "surveys2002 = surveys_df[surveys_df.year == 2002]\n",
      "\n",
      "# Write the new DataFrame to a csv file\n",
      "surveys2002.to_csv('data/lawyearly_files/surveys2002.csv')"
     ],
     "language": "python",
     "metadata": {},
     "outputs": [],
     "prompt_number": 19
    },
    {
     "cell_type": "code",
     "collapsed": false,
     "input": [
      "for year in range(1977,2002):\n",
      "        filename = 'data/yearly_files/surveys' + str(year) + '.csv'\n",
      "        print filename"
     ],
     "language": "python",
     "metadata": {},
     "outputs": [
      {
       "output_type": "stream",
       "stream": "stdout",
       "text": [
        "data/yearly_files/surveys1977.csv\n",
        "data/yearly_files/surveys1978.csv\n",
        "data/yearly_files/surveys1979.csv\n",
        "data/yearly_files/surveys1980.csv\n",
        "data/yearly_files/surveys1981.csv\n",
        "data/yearly_files/surveys1982.csv\n",
        "data/yearly_files/surveys1983.csv\n",
        "data/yearly_files/surveys1984.csv\n",
        "data/yearly_files/surveys1985.csv\n",
        "data/yearly_files/surveys1986.csv\n",
        "data/yearly_files/surveys1987.csv\n",
        "data/yearly_files/surveys1988.csv\n",
        "data/yearly_files/surveys1989.csv\n",
        "data/yearly_files/surveys1990.csv\n",
        "data/yearly_files/surveys1991.csv\n",
        "data/yearly_files/surveys1992.csv\n",
        "data/yearly_files/surveys1993.csv\n",
        "data/yearly_files/surveys1994.csv\n",
        "data/yearly_files/surveys1995.csv\n",
        "data/yearly_files/surveys1996.csv\n",
        "data/yearly_files/surveys1997.csv\n",
        "data/yearly_files/surveys1998.csv\n",
        "data/yearly_files/surveys1999.csv\n",
        "data/yearly_files/surveys2000.csv\n",
        "data/yearly_files/surveys2001.csv\n"
       ]
      }
     ],
     "prompt_number": 20
    },
    {
     "cell_type": "code",
     "collapsed": false,
     "input": [
      "print 'This one stops at half a step:', range(0,6,2)"
     ],
     "language": "python",
     "metadata": {},
     "outputs": [
      {
       "output_type": "stream",
       "stream": "stdout",
       "text": [
        "This one stops at half a step: [0, 2, 4]\n"
       ]
      }
     ],
     "prompt_number": 22
    },
    {
     "cell_type": "code",
     "collapsed": false,
     "input": [
      "# Load the data into a DataFrame\n",
      "surveys_df = pd.read_csv('data/biology/surveys.csv')\n",
      "\n",
      "for year in range(1977,2003):\n",
      "\n",
      "        # Select data for the year\n",
      "        surveys_year = surveys_df[surveys_df.year == year]\n",
      "\n",
      "        # Write the new DataFrame to a csv file\n",
      "        filename = 'data/lawyearly_files/surveys' + str(year) + '.csv'\n",
      "        surveys_year.to_csv(filename)"
     ],
     "language": "python",
     "metadata": {},
     "outputs": [],
     "prompt_number": 27
    },
    {
     "cell_type": "code",
     "collapsed": false,
     "input": [],
     "language": "python",
     "metadata": {},
     "outputs": []
    }
   ],
   "metadata": {}
  }
 ]
}