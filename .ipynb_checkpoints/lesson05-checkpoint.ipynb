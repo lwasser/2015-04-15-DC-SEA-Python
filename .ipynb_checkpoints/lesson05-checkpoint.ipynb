{
 "metadata": {
  "name": "",
  "signature": "sha256:f13b4d70849561a5d05edb3b3bbadf5f99a21851950759b7e796317ed7cf191d"
 },
 "nbformat": 3,
 "nbformat_minor": 0,
 "worksheets": []
}